{
  "nbformat": 4,
  "nbformat_minor": 0,
  "metadata": {
    "colab": {
      "provenance": [],
      "authorship_tag": "ABX9TyP5PNDQU9CKibNKUdeF94Sj",
      "include_colab_link": true
    },
    "kernelspec": {
      "name": "python3",
      "display_name": "Python 3"
    },
    "language_info": {
      "name": "python"
    }
  },
  "cells": [
    {
      "cell_type": "markdown",
      "metadata": {
        "id": "view-in-github",
        "colab_type": "text"
      },
      "source": [
        "<a href=\"https://colab.research.google.com/github/CyruzCabilan/VDA-CPE031-CPE21S4/blob/main/Prelim_Q11.ipynb\" target=\"_parent\"><img src=\"https://colab.research.google.com/assets/colab-badge.svg\" alt=\"Open In Colab\"/></a>"
      ]
    },
    {
      "cell_type": "code",
      "execution_count": 7,
      "metadata": {
        "colab": {
          "base_uri": "https://localhost:8080/"
        },
        "id": "s6pm4oMF3njQ",
        "outputId": "5cb54dcb-ecb3-4510-d2b9-32ca0f8a86c2"
      },
      "outputs": [
        {
          "output_type": "stream",
          "name": "stdout",
          "text": [
            "    0   1   2\n",
            "0  78  84  86\n",
            "1  85  94  97\n",
            "2  96  89  96\n",
            "3  80  83  72\n",
            "4  86  82  83\n"
          ]
        }
      ],
      "source": [
        "import pandas as pd\n",
        "s1 =pd.Series ([78,84,86])\n",
        "s2 =pd.Series ([85,94,97])\n",
        "s3 =pd.Series ([96,89,96])\n",
        "s4 =pd.Series ([80,83,72])\n",
        "s5 =pd.Series ([86,82,83])\n",
        "\n",
        "dframe = pd.DataFrame([s1,s2,s3,s4,s5],index =[0,1,2,3,4], columns =[0,1,2])\n",
        "print(dframe)"
      ]
    }
  ]
}