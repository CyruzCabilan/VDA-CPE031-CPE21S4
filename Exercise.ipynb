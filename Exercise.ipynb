{
  "nbformat": 4,
  "nbformat_minor": 0,
  "metadata": {
    "colab": {
      "provenance": [],
      "authorship_tag": "ABX9TyNr6C95p8aJvvrwSRX7i6Lv",
      "include_colab_link": true
    },
    "kernelspec": {
      "name": "python3",
      "display_name": "Python 3"
    },
    "language_info": {
      "name": "python"
    }
  },
  "cells": [
    {
      "cell_type": "markdown",
      "metadata": {
        "id": "view-in-github",
        "colab_type": "text"
      },
      "source": [
        "<a href=\"https://colab.research.google.com/github/CyruzCabilan/VDA-CPE031-CPE21S4/blob/main/Exercise_1.ipynb\" target=\"_parent\"><img src=\"https://colab.research.google.com/assets/colab-badge.svg\" alt=\"Open In Colab\"/></a>"
      ]
    },
    {
      "cell_type": "markdown",
      "source": [
        "# **1. Variable and data types**\n"
      ],
      "metadata": {
        "id": "APOU8KhY1v0s"
      }
    },
    {
      "cell_type": "markdown",
      "source": [
        "**Number**"
      ],
      "metadata": {
        "id": "Nu1w-vOe3PzL"
      }
    },
    {
      "cell_type": "code",
      "execution_count": 10,
      "metadata": {
        "id": "SQjEz8SJ1K2L"
      },
      "outputs": [],
      "source": [
        "varNum = 123\n",
        "pi = 3.14159"
      ]
    },
    {
      "cell_type": "markdown",
      "source": [
        " **Strings**"
      ],
      "metadata": {
        "id": "EDEj87c83L_7"
      }
    },
    {
      "cell_type": "code",
      "source": [
        "varString = \"Hello world\"\n",
        "varText = 'This is a String'"
      ],
      "metadata": {
        "id": "BXNKppew3WS7"
      },
      "execution_count": 11,
      "outputs": []
    },
    {
      "cell_type": "markdown",
      "source": [
        " **List**"
      ],
      "metadata": {
        "id": "uZNlcUMI3iD7"
      }
    },
    {
      "cell_type": "code",
      "source": [
        "varList = [\"abc\", 123]"
      ],
      "metadata": {
        "id": "qex7vGn43jti"
      },
      "execution_count": null,
      "outputs": []
    },
    {
      "cell_type": "markdown",
      "source": [
        " **Tuples**"
      ],
      "metadata": {
        "id": "rovi_Eyn3s1G"
      }
    },
    {
      "cell_type": "code",
      "source": [
        "varTuple = 'abc', 123, \"HELLO\""
      ],
      "metadata": {
        "id": "N-9XKUvi34Sc"
      },
      "execution_count": null,
      "outputs": []
    },
    {
      "cell_type": "markdown",
      "source": [
        " **Dictionaries**"
      ],
      "metadata": {
        "id": "yKJ2Uj3N4BC6"
      }
    },
    {
      "cell_type": "code",
      "source": [
        "var = 3\n",
        "varDict = {'first':1, '2':'2nd', 3:var}\n"
      ],
      "metadata": {
        "id": "VUM7uhWJ4E0y"
      },
      "execution_count": null,
      "outputs": []
    },
    {
      "cell_type": "code",
      "source": [
        "varDict = {}\n",
        "varDict['First']= 1\n",
        "varDict['2'] = '2nd'\n",
        "varDict[3] = var"
      ],
      "metadata": {
        "id": "rRDy_hsw4bBK"
      },
      "execution_count": null,
      "outputs": []
    },
    {
      "cell_type": "markdown",
      "source": [
        "# **2.Arithmetic**"
      ],
      "metadata": {
        "id": "-o8DMXcU4zoi"
      }
    },
    {
      "cell_type": "markdown",
      "source": [
        "**Addition**"
      ],
      "metadata": {
        "id": "BIkeFO185EIK"
      }
    },
    {
      "cell_type": "code",
      "source": [
        "a = 5 + 3\n"
      ],
      "metadata": {
        "id": "qdev_AKw5IFN"
      },
      "execution_count": 13,
      "outputs": []
    },
    {
      "cell_type": "markdown",
      "source": [
        "**Subtraction**"
      ],
      "metadata": {
        "id": "moaJFRrz5Tsd"
      }
    },
    {
      "cell_type": "code",
      "source": [
        "a = 5 - 3"
      ],
      "metadata": {
        "id": "AMdgsZH_5XYS"
      },
      "execution_count": 14,
      "outputs": []
    },
    {
      "cell_type": "markdown",
      "source": [
        "**Multiplication**"
      ],
      "metadata": {
        "id": "2yC_eZb25au8"
      }
    },
    {
      "cell_type": "code",
      "source": [
        "a = 5 * 3"
      ],
      "metadata": {
        "id": "H_GQ6XhW5eKq"
      },
      "execution_count": 15,
      "outputs": []
    },
    {
      "cell_type": "markdown",
      "source": [
        "**Exponent**"
      ],
      "metadata": {
        "id": "toqb0lgS5j7a"
      }
    },
    {
      "cell_type": "markdown",
      "source": [
        "a = 5 ** 3"
      ],
      "metadata": {
        "id": "vA9NuIps5mpx"
      }
    },
    {
      "cell_type": "markdown",
      "source": [
        "**Division**"
      ],
      "metadata": {
        "id": "tP-FgD0p5rhD"
      }
    },
    {
      "cell_type": "code",
      "source": [
        "a = 5 / 3"
      ],
      "metadata": {
        "id": "8BIF7zwX5y9e"
      },
      "execution_count": null,
      "outputs": []
    },
    {
      "cell_type": "code",
      "source": [
        "a = 5 % 3"
      ],
      "metadata": {
        "id": "xaZzQIhk54Mp"
      },
      "execution_count": null,
      "outputs": []
    },
    {
      "cell_type": "code",
      "source": [
        "a = 5 // 3"
      ],
      "metadata": {
        "id": "cFUynpkq567L"
      },
      "execution_count": null,
      "outputs": []
    },
    {
      "cell_type": "markdown",
      "source": [
        "Increment/Decrement"
      ],
      "metadata": {
        "id": "SrW7yvLg495i"
      }
    },
    {
      "cell_type": "code",
      "source": [
        "a = 5\n",
        "a += 1"
      ],
      "metadata": {
        "id": "V3FeGTSS6G-C"
      },
      "execution_count": 2,
      "outputs": []
    },
    {
      "cell_type": "markdown",
      "source": [
        "Decrement\n",
        "\n",
        "```\n",
        "# a =5\n",
        "a -= 1\n",
        "```\n",
        ">4\n",
        "\n"
      ],
      "metadata": {
        "id": "VdBfHcMd59zR"
      }
    },
    {
      "cell_type": "markdown",
      "source": [
        "String Concatenation\n",
        "\n",
        "```\n",
        "# a = 'Hello' + 'World'\n",
        "```\n",
        "Hello World\n"
      ],
      "metadata": {
        "id": "64-6z5xo6mDB"
      }
    },
    {
      "cell_type": "markdown",
      "source": [
        "Complex Expresssion\n",
        "\n",
        "```\n",
        "a = 3 + 5 + 6 * 2 / 4\n",
        "```\n",
        "5.0\n"
      ],
      "metadata": {
        "id": "qzrNKJGj7G0g"
      }
    },
    {
      "cell_type": "markdown",
      "source": [
        "# **3. Conditional statements**"
      ],
      "metadata": {
        "id": "Uyhxox_i7Z9S"
      }
    },
    {
      "cell_type": "markdown",
      "source": [
        "**Boolean condition**\n",
        "\n",
        "x = true\n",
        "\n",
        "if x:\n",
        "    print(\"var x is True\")\n",
        "else:\n",
        "    print(\"var x is False\")\n",
        "```\n",
        ">var x is True\n"
      ],
      "metadata": {
        "id": "AIttPspI7hNN"
      }
    },
    {
      "cell_type": "markdown",
      "source": [
        "**String conditons**\n",
        "\n",
        "```\n",
        "x = \"Hello World!\"\n",
        "\n",
        "if x == 'Hellow World!':\n",
        "    print (\"var x is Hello World!\")\n",
        "else:\n",
        "    print(\"var x is not Hello Word!\")\n",
        "```\n",
        "> var x is Hello world!\n"
      ],
      "metadata": {
        "id": "Y94885kN8HJx"
      }
    },
    {
      "cell_type": "markdown",
      "source": [
        "**Numerical Conditons**"
      ],
      "metadata": {
        "id": "W1zo-dQc8-w8"
      }
    },
    {
      "cell_type": "code",
      "source": [
        "x = 10\n",
        "\n",
        "if x == '10':\n",
        "    print (\"var x is a string\")\n",
        "elif x == 10:\n",
        "    print (\"var x is an integer\")\n",
        "else:\n",
        "    print(\"var x is none of the above\")"
      ],
      "metadata": {
        "colab": {
          "base_uri": "https://localhost:8080/"
        },
        "id": "0qz0NYgn9Nrg",
        "outputId": "e6f6f52e-5837-4b6e-be69-8d689d6bd79a"
      },
      "execution_count": 4,
      "outputs": [
        {
          "output_type": "stream",
          "name": "stdout",
          "text": [
            "var x is an integer\n"
          ]
        }
      ]
    },
    {
      "cell_type": "markdown",
      "source": [
        "# **4. Loop**"
      ],
      "metadata": {
        "id": "VZ8iECmW9uag"
      }
    },
    {
      "cell_type": "markdown",
      "source": [
        "**For Loops**"
      ],
      "metadata": {
        "id": "8xsGTRpC-DwX"
      }
    },
    {
      "cell_type": "code",
      "source": [
        " for var in range(0, 5, 2):\n",
        "    print(var)"
      ],
      "metadata": {
        "colab": {
          "base_uri": "https://localhost:8080/"
        },
        "id": "4DMqDuPG-KwK",
        "outputId": "8c12c3dd-1731-4349-83f5-f468cb52fb79"
      },
      "execution_count": 5,
      "outputs": [
        {
          "output_type": "stream",
          "name": "stdout",
          "text": [
            "0\n",
            "2\n",
            "4\n"
          ]
        }
      ]
    },
    {
      "cell_type": "markdown",
      "source": [
        "**While Loops**"
      ],
      "metadata": {
        "id": "ZxOu77EK-XX0"
      }
    },
    {
      "cell_type": "code",
      "source": [
        "var = 0\n",
        "while var < 5:\n",
        "    print(var)\n",
        "    var += 2"
      ],
      "metadata": {
        "colab": {
          "base_uri": "https://localhost:8080/"
        },
        "id": "PdGlcB2H-cav",
        "outputId": "da3c815b-3639-4915-e6e2-8f52bf49771f"
      },
      "execution_count": 6,
      "outputs": [
        {
          "output_type": "stream",
          "name": "stdout",
          "text": [
            "0\n",
            "2\n",
            "4\n"
          ]
        }
      ]
    },
    {
      "cell_type": "markdown",
      "source": [
        "**Nested loops**"
      ],
      "metadata": {
        "id": "qCkUuQuW-pwP"
      }
    },
    {
      "cell_type": "code",
      "source": [
        "x = 0\n",
        "while x < 5:\n",
        "  for y in range (0, x):\n",
        "    print(y, end='')\n",
        "  x += 1\n",
        "  print()"
      ],
      "metadata": {
        "colab": {
          "base_uri": "https://localhost:8080/"
        },
        "id": "dpPfr6hC-t0A",
        "outputId": "ee7d77ce-76a3-41d6-fba8-8b75da182582"
      },
      "execution_count": 7,
      "outputs": [
        {
          "output_type": "stream",
          "name": "stdout",
          "text": [
            "\n",
            "0\n",
            "01\n",
            "012\n",
            "0123\n"
          ]
        }
      ]
    },
    {
      "cell_type": "markdown",
      "source": [
        "# **5.Tuples**"
      ],
      "metadata": {
        "id": "fTl1e8l4H_T3"
      }
    },
    {
      "cell_type": "markdown",
      "source": [
        "# **6.List**"
      ],
      "metadata": {
        "id": "58hIiYrr_YnV"
      }
    },
    {
      "cell_type": "markdown",
      "source": [
        "**Can contain a number of value comprised of diffent datatypes**"
      ],
      "metadata": {
        "id": "WIqygHqcBE7_"
      }
    },
    {
      "cell_type": "code",
      "source": [
        "pi = 3.14159\n",
        "varList = [1, 2, 'A', 'B', 'Hello', pi]\n",
        "print(varList[0])"
      ],
      "metadata": {
        "colab": {
          "base_uri": "https://localhost:8080/"
        },
        "id": "PKasdF5Z_vxj",
        "outputId": "df4e0a3a-608b-49ff-aaac-3db50272091d"
      },
      "execution_count": 32,
      "outputs": [
        {
          "output_type": "stream",
          "name": "stdout",
          "text": [
            "1\n"
          ]
        }
      ]
    },
    {
      "cell_type": "code",
      "source": [
        "print(varList[4])"
      ],
      "metadata": {
        "colab": {
          "base_uri": "https://localhost:8080/"
        },
        "id": "DSviujy5AL4p",
        "outputId": "ae2aa498-c236-431b-dfdc-855cb46b42f8"
      },
      "execution_count": 33,
      "outputs": [
        {
          "output_type": "stream",
          "name": "stdout",
          "text": [
            "Hello\n"
          ]
        }
      ]
    },
    {
      "cell_type": "code",
      "source": [
        "varList.append('World!')\n",
        "print(varList[6])"
      ],
      "metadata": {
        "colab": {
          "base_uri": "https://localhost:8080/"
        },
        "id": "s-NJigj4ARUn",
        "outputId": "88b69972-4357-495f-82e0-4361ccc0e513"
      },
      "execution_count": 34,
      "outputs": [
        {
          "output_type": "stream",
          "name": "stdout",
          "text": [
            "World!\n"
          ]
        }
      ]
    },
    {
      "cell_type": "code",
      "source": [
        "len(varList)"
      ],
      "metadata": {
        "colab": {
          "base_uri": "https://localhost:8080/"
        },
        "id": "QTkPG5ZVAcUI",
        "outputId": "7c4592a9-d8ac-476c-fa99-1e35f2360e0d"
      },
      "execution_count": 35,
      "outputs": [
        {
          "output_type": "execute_result",
          "data": {
            "text/plain": [
              "7"
            ]
          },
          "metadata": {},
          "execution_count": 35
        }
      ]
    },
    {
      "cell_type": "code",
      "source": [
        "print(varList[5])"
      ],
      "metadata": {
        "colab": {
          "base_uri": "https://localhost:8080/"
        },
        "id": "eKQsYVO0Afk2",
        "outputId": "92ec6323-3703-4691-9bde-4f2c17f640fc"
      },
      "execution_count": 36,
      "outputs": [
        {
          "output_type": "stream",
          "name": "stdout",
          "text": [
            "3.14159\n"
          ]
        }
      ]
    },
    {
      "cell_type": "code",
      "source": [
        "varList.remove(pi)\n",
        "print(varList[5])"
      ],
      "metadata": {
        "colab": {
          "base_uri": "https://localhost:8080/"
        },
        "id": "HS8ZXkwgAlTv",
        "outputId": "56002f46-53a3-430f-fa8e-a20f02779631"
      },
      "execution_count": 37,
      "outputs": [
        {
          "output_type": "stream",
          "name": "stdout",
          "text": [
            "World!\n"
          ]
        }
      ]
    },
    {
      "cell_type": "markdown",
      "source": [
        "# **7.Dictionaries**"
      ],
      "metadata": {
        "id": "6jgRAJr_BUoA"
      }
    },
    {
      "cell_type": "code",
      "source": [
        "var = \"Hello World!\"\n",
        "varDict = {'first' : 123, 2 : 'abc', '3' : var, 4 : ['lista', 'lisb']}\n",
        "print(varDict['first'])"
      ],
      "metadata": {
        "colab": {
          "base_uri": "https://localhost:8080/"
        },
        "id": "hZboC2quBdm2",
        "outputId": "65d80bbd-cf85-4124-da9a-4805d7837100"
      },
      "execution_count": 24,
      "outputs": [
        {
          "output_type": "stream",
          "name": "stdout",
          "text": [
            "123\n"
          ]
        }
      ]
    },
    {
      "cell_type": "code",
      "source": [
        "print(varDict[2])"
      ],
      "metadata": {
        "colab": {
          "base_uri": "https://localhost:8080/"
        },
        "id": "dgxppC_lB_RV",
        "outputId": "df3ba50b-59bb-4f52-f133-b989cc601e84"
      },
      "execution_count": 25,
      "outputs": [
        {
          "output_type": "stream",
          "name": "stdout",
          "text": [
            "abc\n"
          ]
        }
      ]
    },
    {
      "cell_type": "code",
      "source": [
        "print(varDict['3'])"
      ],
      "metadata": {
        "colab": {
          "base_uri": "https://localhost:8080/"
        },
        "id": "7OXs4TNsCD5u",
        "outputId": "b6d1112f-07aa-47cc-8519-180af7fb2a1f"
      },
      "execution_count": 26,
      "outputs": [
        {
          "output_type": "stream",
          "name": "stdout",
          "text": [
            "Hello World!\n"
          ]
        }
      ]
    },
    {
      "cell_type": "code",
      "source": [
        "print(varDict[4])"
      ],
      "metadata": {
        "colab": {
          "base_uri": "https://localhost:8080/"
        },
        "id": "UR-6SyWYCJnY",
        "outputId": "c2da7b78-7a18-41d1-f2e8-29a8bbad45a0"
      },
      "execution_count": 27,
      "outputs": [
        {
          "output_type": "stream",
          "name": "stdout",
          "text": [
            "['lista', 'lisb']\n"
          ]
        }
      ]
    },
    {
      "cell_type": "code",
      "source": [],
      "metadata": {
        "id": "vyyUIv4XCPF2"
      },
      "execution_count": null,
      "outputs": []
    },
    {
      "cell_type": "code",
      "source": [
        "print(varDict[4][1])"
      ],
      "metadata": {
        "colab": {
          "base_uri": "https://localhost:8080/"
        },
        "id": "XZvH1QaxCPG_",
        "outputId": "98c0760e-dee7-4c60-c3ed-f37d5e43dd5b"
      },
      "execution_count": 28,
      "outputs": [
        {
          "output_type": "stream",
          "name": "stdout",
          "text": [
            "lisb\n"
          ]
        }
      ]
    },
    {
      "cell_type": "code",
      "source": [
        "len(varDict)"
      ],
      "metadata": {
        "colab": {
          "base_uri": "https://localhost:8080/"
        },
        "id": "s0L4Qb_eCXU0",
        "outputId": "b1906670-58b4-4f16-f7ad-d24b43283536"
      },
      "execution_count": 29,
      "outputs": [
        {
          "output_type": "execute_result",
          "data": {
            "text/plain": [
              "4"
            ]
          },
          "metadata": {},
          "execution_count": 29
        }
      ]
    },
    {
      "cell_type": "markdown",
      "source": [
        "# **8.Generators and comprehension**"
      ],
      "metadata": {
        "id": "f4oUMb1KEAVe"
      }
    },
    {
      "cell_type": "code",
      "source": [
        "def gen_num_up_to(n):\n",
        "  num = 0\n",
        "  while num < n:\n",
        "      yield num\n",
        "      num += 1"
      ],
      "metadata": {
        "id": "hdO8pGeFENrz"
      },
      "execution_count": 42,
      "outputs": []
    },
    {
      "cell_type": "code",
      "source": [
        "gen_num_up_to(5)"
      ],
      "metadata": {
        "colab": {
          "base_uri": "https://localhost:8080/"
        },
        "id": "Rc-tYyY6E3GE",
        "outputId": "8e5efac8-df6e-4fcd-ae39-33da4392a8c8"
      },
      "execution_count": 44,
      "outputs": [
        {
          "output_type": "execute_result",
          "data": {
            "text/plain": [
              "<generator object gen_num_up_to at 0x7d3c93f7ca50>"
            ]
          },
          "metadata": {},
          "execution_count": 44
        }
      ]
    },
    {
      "cell_type": "code",
      "source": [
        "varList = gen_num_up_to(5)\n",
        "print([var for var in varList])"
      ],
      "metadata": {
        "colab": {
          "base_uri": "https://localhost:8080/"
        },
        "id": "OD9UukZiFTxi",
        "outputId": "7603c4ac-4cd8-41c2-d458-26538cd52dd5"
      },
      "execution_count": 45,
      "outputs": [
        {
          "output_type": "stream",
          "name": "stdout",
          "text": [
            "[0, 1, 2, 3, 4]\n"
          ]
        }
      ]
    },
    {
      "cell_type": "code",
      "source": [
        "def gen_num_up_to(n):\n",
        "    num = 0\n",
        "    while num < n:\n",
        "      yield num\n",
        "      num += 2\n",
        "\n",
        "varLisyt = gen_num_up_to(5)\n",
        "print([var for var in varList])"
      ],
      "metadata": {
        "colab": {
          "base_uri": "https://localhost:8080/"
        },
        "id": "YvxXTtuKFiDF",
        "outputId": "67db8d36-75a7-4af4-bafd-eacf9854fdb3"
      },
      "execution_count": 47,
      "outputs": [
        {
          "output_type": "stream",
          "name": "stdout",
          "text": [
            "[]\n"
          ]
        }
      ]
    },
    {
      "cell_type": "code",
      "source": [
        "varList = range(0, 5, 2)\n",
        "print([var for var in varList])"
      ],
      "metadata": {
        "colab": {
          "base_uri": "https://localhost:8080/"
        },
        "id": "ZzzLbmtaGFHl",
        "outputId": "b3e0a141-ee9e-4930-9769-6867f6e80ba3"
      },
      "execution_count": 48,
      "outputs": [
        {
          "output_type": "stream",
          "name": "stdout",
          "text": [
            "[0, 2, 4]\n"
          ]
        }
      ]
    },
    {
      "cell_type": "markdown",
      "source": [
        "**note: python'sbuild in range function range([start],stop,[step])**"
      ],
      "metadata": {
        "id": "NXr6wqIAGRT1"
      }
    },
    {
      "cell_type": "markdown",
      "source": [
        "# **9.Slicing**"
      ],
      "metadata": {
        "id": "o3QzWKjAGmks"
      }
    },
    {
      "cell_type": "code",
      "source": [
        "varList = [1, 2, 3, 4, 5, 6, 7, 8, 9, 10]\n",
        "print(varList[:5])"
      ],
      "metadata": {
        "colab": {
          "base_uri": "https://localhost:8080/"
        },
        "id": "qdRTfsheGxOG",
        "outputId": "2836d826-34d7-499a-f42f-9ecf771b7e47"
      },
      "execution_count": 49,
      "outputs": [
        {
          "output_type": "stream",
          "name": "stdout",
          "text": [
            "[1, 2, 3, 4, 5]\n"
          ]
        }
      ]
    },
    {
      "cell_type": "code",
      "source": [
        "print(varList[5:])"
      ],
      "metadata": {
        "colab": {
          "base_uri": "https://localhost:8080/"
        },
        "id": "1raUtHyEG_Kg",
        "outputId": "bc3fdb20-7b17-4528-9cf8-e755f5f20755"
      },
      "execution_count": 50,
      "outputs": [
        {
          "output_type": "stream",
          "name": "stdout",
          "text": [
            "[6, 7, 8, 9, 10]\n"
          ]
        }
      ]
    },
    {
      "cell_type": "code",
      "source": [
        "print(varList[:0-2])"
      ],
      "metadata": {
        "colab": {
          "base_uri": "https://localhost:8080/"
        },
        "id": "Iwvd-TXNHDOC",
        "outputId": "0b93bcaa-c716-4dc6-a03d-35e712f24f95"
      },
      "execution_count": 51,
      "outputs": [
        {
          "output_type": "stream",
          "name": "stdout",
          "text": [
            "[1, 2, 3, 4, 5, 6, 7, 8]\n"
          ]
        }
      ]
    },
    {
      "cell_type": "code",
      "source": [
        "print(varList[-2:])"
      ],
      "metadata": {
        "colab": {
          "base_uri": "https://localhost:8080/"
        },
        "id": "GaNINFgSHMb8",
        "outputId": "25194d8d-d6a5-4da8-902e-1bfcd01e2c02"
      },
      "execution_count": 52,
      "outputs": [
        {
          "output_type": "stream",
          "name": "stdout",
          "text": [
            "[9, 10]\n"
          ]
        }
      ]
    },
    {
      "cell_type": "code",
      "source": [
        "print(varList[2:-2])"
      ],
      "metadata": {
        "colab": {
          "base_uri": "https://localhost:8080/"
        },
        "id": "lzM7K2FyHUIt",
        "outputId": "a385ffad-06f5-4f25-e944-e3b89639f95d"
      },
      "execution_count": 53,
      "outputs": [
        {
          "output_type": "stream",
          "name": "stdout",
          "text": [
            "[3, 4, 5, 6, 7, 8]\n"
          ]
        }
      ]
    },
    {
      "cell_type": "code",
      "source": [
        "print(varList[2:8:2])"
      ],
      "metadata": {
        "colab": {
          "base_uri": "https://localhost:8080/"
        },
        "id": "2mz3ovtEHby0",
        "outputId": "76cea061-3078-421e-93c6-f0c6187e2c4d"
      },
      "execution_count": 54,
      "outputs": [
        {
          "output_type": "stream",
          "name": "stdout",
          "text": [
            "[3, 5, 7]\n"
          ]
        }
      ]
    },
    {
      "cell_type": "markdown",
      "source": [
        "**Note: list(start:)\n",
        "      list(:end)\n",
        "      list(start:end)\n",
        "      list(start;end;step)**"
      ],
      "metadata": {
        "id": "CtbpUv4YHhOn"
      }
    },
    {
      "cell_type": "markdown",
      "source": [
        "# **10.functions**"
      ],
      "metadata": {
        "id": "hm-qq3HQIPQc"
      }
    },
    {
      "cell_type": "markdown",
      "source": [
        "**python functions use the following notation:**\n",
        "\n"
      ],
      "metadata": {
        "id": "6qff2DcOIabU"
      }
    },
    {
      "cell_type": "markdown",
      "source": [
        "**def function_name:\n",
        "commands**"
      ],
      "metadata": {
        "id": "8g6L8wrmIlFc"
      }
    },
    {
      "cell_type": "code",
      "source": [
        "def remainder(n, m):\n",
        "  while True:\n",
        "    if n - m < 0:\n",
        "      return n\n",
        "    else:\n",
        "      n = n -m\n",
        "\n",
        "remainder(10, 4)"
      ],
      "metadata": {
        "colab": {
          "base_uri": "https://localhost:8080/"
        },
        "id": "kiiJAakzItmr",
        "outputId": "dec9be6c-af0f-448f-a517-35a7bb0180ad"
      },
      "execution_count": 55,
      "outputs": [
        {
          "output_type": "execute_result",
          "data": {
            "text/plain": [
              "2"
            ]
          },
          "metadata": {},
          "execution_count": 55
        }
      ]
    },
    {
      "cell_type": "markdown",
      "source": [
        "**Note: Functions are defined with the keyword\n",
        "def before the functions_name. Similar to\n",
        "loops, the function definition ends with a colon(;)while its content inside are indented.**"
      ],
      "metadata": {
        "id": "igwwB91fJJBf"
      }
    }
  ]
}
