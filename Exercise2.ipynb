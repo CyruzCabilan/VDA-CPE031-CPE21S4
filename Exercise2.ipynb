{
  "nbformat": 4,
  "nbformat_minor": 0,
  "metadata": {
    "colab": {
      "provenance": [],
      "authorship_tag": "ABX9TyO0MpLe8xR2EBXfjk4+Uac8",
      "include_colab_link": true
    },
    "kernelspec": {
      "name": "python3",
      "display_name": "Python 3"
    },
    "language_info": {
      "name": "python"
    }
  },
  "cells": [
    {
      "cell_type": "markdown",
      "metadata": {
        "id": "view-in-github",
        "colab_type": "text"
      },
      "source": [
        "<a href=\"https://colab.research.google.com/github/CyruzCabilan/VDA-CPE031-CPE21S4/blob/main/Exercise3.ipynb\" target=\"_parent\"><img src=\"https://colab.research.google.com/assets/colab-badge.svg\" alt=\"Open In Colab\"/></a>"
      ]
    },
    {
      "cell_type": "markdown",
      "source": [
        "# Example **1**"
      ],
      "metadata": {
        "id": "haC5vb7ZH4w2"
      }
    },
    {
      "cell_type": "code",
      "execution_count": 12,
      "metadata": {
        "colab": {
          "base_uri": "https://localhost:8080/"
        },
        "id": "wo2_yuVngols",
        "outputId": "a05de415-e774-413b-e8d9-e5f7a262b054"
      },
      "outputs": [
        {
          "output_type": "stream",
          "name": "stdout",
          "text": [
            "  animals  height\n",
            "0     Cat      13\n",
            "1     Dog      17\n",
            "2  Rabbit       8\n"
          ]
        }
      ],
      "source": [
        "import pandas\n",
        "\n",
        "mydataset = {\n",
        "\"animals\": [\"Cat\", \"Dog\", \"Rabbit\"],\n",
        "\"height\": [13, 17, 8]\n",
        "}\n",
        "\n",
        "myvar = pandas.DataFrame(mydataset)\n",
        "\n",
        "print(myvar)"
      ]
    },
    {
      "cell_type": "markdown",
      "source": [
        "# **Example 2**"
      ],
      "metadata": {
        "id": "6pSLCxbMIDFu"
      }
    },
    {
      "cell_type": "code",
      "source": [
        "import pandas as pd\n",
        "\n",
        "a = [1,7,2]\n",
        "\n",
        "myvar = pd.Series(a)\n",
        "\n",
        "print(myvar[0])"
      ],
      "metadata": {
        "colab": {
          "base_uri": "https://localhost:8080/"
        },
        "id": "9LsH2z-F3GFf",
        "outputId": "2ad48ebc-1f5d-4942-fc7f-8161ec2e8c2b"
      },
      "execution_count": 13,
      "outputs": [
        {
          "output_type": "stream",
          "name": "stdout",
          "text": [
            "1\n"
          ]
        }
      ]
    },
    {
      "cell_type": "markdown",
      "source": [
        "# **Example 3**"
      ],
      "metadata": {
        "id": "emfJjse-IFYf"
      }
    },
    {
      "cell_type": "code",
      "source": [
        "import pandas as pd\n",
        "\n",
        "data ={\n",
        "    \"age\":[42,38,39],\n",
        "    \"weight\":[50,40,45]\n",
        "}\n",
        "\n",
        "myvar = pd.DataFrame(data)\n",
        "print(myvar.loc[0])\n",
        "print(myvar.loc[[0,1,2]])\n"
      ],
      "metadata": {
        "colab": {
          "base_uri": "https://localhost:8080/"
        },
        "id": "jrQVBUQr8PXT",
        "outputId": "3d0d93e5-6279-4c62-fd40-5ed3bc30a51a"
      },
      "execution_count": 22,
      "outputs": [
        {
          "output_type": "stream",
          "name": "stdout",
          "text": [
            "age       42\n",
            "weight    50\n",
            "Name: 0, dtype: int64\n",
            "   age  weight\n",
            "0   42      50\n",
            "1   38      40\n",
            "2   39      45\n"
          ]
        }
      ]
    },
    {
      "cell_type": "markdown",
      "source": [
        "# **Example 4**"
      ],
      "metadata": {
        "id": "Emn5NQ_6IHrZ"
      }
    },
    {
      "cell_type": "code",
      "source": [
        "import pandas as pd\n",
        "\n",
        "s1 = pd.Series([0,4,8])\n",
        "s2 = pd.Series([1,5,9])\n",
        "s3 = pd.Series([2,6,10])\n",
        "\n",
        "dframe = pd.DataFrame([s1,s2,s3])\n",
        "df = dframe.drop([0])\n",
        "print(dframe)"
      ],
      "metadata": {
        "colab": {
          "base_uri": "https://localhost:8080/"
        },
        "id": "XJhmRAjI-qjO",
        "outputId": "a37d2759-fda9-4046-c03c-8cafd5824eab"
      },
      "execution_count": 24,
      "outputs": [
        {
          "output_type": "stream",
          "name": "stdout",
          "text": [
            "   0  1   2\n",
            "0  0  4   8\n",
            "1  1  5   9\n",
            "2  2  6  10\n"
          ]
        }
      ]
    },
    {
      "cell_type": "markdown",
      "source": [
        "# **Example 5**"
      ],
      "metadata": {
        "id": "zTCthzbHIJ3T"
      }
    },
    {
      "cell_type": "code",
      "source": [
        "import pandas as pd\n",
        "s1 = pd.Series([0,4,8])\n",
        "s2 = pd.Series([1,5,9])\n",
        "s3 = pd.Series([2,6,10])\n",
        "s4 = pd.Series([5,10,15])\n",
        "\n",
        "#creating table multi-dimensional table\n",
        "dframe = pd.DataFrame([s1,s2,s3,s4],index =[0,1,2,3], columns =[0,1,2])\n",
        "print(dframe)"
      ],
      "metadata": {
        "colab": {
          "base_uri": "https://localhost:8080/"
        },
        "id": "WGaPA9aXEKxm",
        "outputId": "e694d4e9-b3da-46ba-982b-6a5b367db00e"
      },
      "execution_count": 27,
      "outputs": [
        {
          "output_type": "stream",
          "name": "stdout",
          "text": [
            "   0   1   2\n",
            "0  0   4   8\n",
            "1  1   5   9\n",
            "2  2   6  10\n",
            "3  5  10  15\n"
          ]
        }
      ]
    },
    {
      "cell_type": "markdown",
      "source": [
        "# **Challenge**"
      ],
      "metadata": {
        "id": "t3tfEo_tGgqV"
      }
    },
    {
      "cell_type": "code",
      "source": [
        "#How are you going delete indices no 0,1,3 leaving only all items in index 2?\n",
        "\n",
        "import pandas as pd\n",
        "\n",
        "dframe = pd.DataFrame(index=[0,1,2,3], columns=[0,2,1,1])\n",
        "s1 =pd.Series([3,5,6])\n",
        "s2 =pd.Series([6,4,2])\n",
        "s3 =pd.Series([3,5,8])\n",
        "s4 =pd.Series([4,8,6])\n",
        "s5 =pd.Series([10,8,8])\n",
        "dframe=pd.DataFrame([s1,s2,s3,s4,s5], index=[0,1,2,3,4], columns=[0,1,2,3])\n",
        "dframe=pd.DataFrame([s1,s2,s3,s4,s5])\n",
        "dframe=pd.DataFrame.drop(dframe, [0,1,3])\n",
        "print(dframe)"
      ],
      "metadata": {
        "colab": {
          "base_uri": "https://localhost:8080/"
        },
        "id": "mfhR9X18GjCy",
        "outputId": "7ba751b6-6f1e-4cef-f0f4-459221aedb43"
      },
      "execution_count": 40,
      "outputs": [
        {
          "output_type": "stream",
          "name": "stdout",
          "text": [
            "    0  1  2\n",
            "2   3  5  8\n",
            "4  10  8  8\n"
          ]
        }
      ]
    }
  ]
}
